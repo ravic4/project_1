{
 "cells": [
  {
   "cell_type": "code",
   "execution_count": 12,
   "id": "73542390-f6b7-49e6-b0d3-3fb50f87b00c",
   "metadata": {},
   "outputs": [
    {
     "data": {
      "text/plain": [
       "list"
      ]
     },
     "execution_count": 12,
     "metadata": {},
     "output_type": "execute_result"
    }
   ],
   "source": [
    "import pandas as pd\n",
    "import requests\n",
    "from datetime import datetime\n",
    "import pandas as pd\n",
    "\n",
    "def get_historical_bitcoin_data(start_date, end_date):\n",
    "    # Convert start and end dates to Unix timestamp\n",
    "    start_timestamp = int(datetime.strptime(start_date, \"%Y-%m-%d\").timestamp())\n",
    "    end_timestamp = int(datetime.strptime(end_date, \"%Y-%m-%d\").timestamp())\n",
    "    # Calculate the number of days between start and end dates\n",
    "    days_difference = (end_timestamp - start_timestamp) // (24 * 3600) # seconds in a day\n",
    "    # API endpoint for historical prices\n",
    "    api_url = 'https://api.coingecko.com/api/v3/coins/bitcoin/market_chart'\n",
    "    # Define parameters for the API request\n",
    "    params = {\n",
    "        'vs_currency': 'usd',\n",
    "        'from': start_timestamp * 1000, # Multiply by 1000 for milliseconds\n",
    "        'to': end_timestamp * 1000, # Multiply by 1000 for milliseconds\n",
    "        'days': days_difference # Add the 'days' parameter\n",
    "     }\n",
    "    # Make the API request\n",
    "    response = requests.get(api_url, params=params)\n",
    "    \n",
    "    if response.status_code == 200:\n",
    "        data = response.json()\n",
    "        prices = data.get('prices', [])\n",
    "        return prices\n",
    "    else:\n",
    "        print(f\"Failed to retrieve Bitcoin data. Status code: {response.status_code}\")\n",
    "        print(f\"Error message: {response.text}\")\n",
    "    return None\n",
    "    \n",
    "# Set the date range\n",
    "start_date = '2018-12-31'\n",
    "end_date = '2023-12-29'\n",
    "# Get historical Bitcoin data\n",
    "bitcoin_prices = get_historical_bitcoin_data(start_date, end_date)\n",
    "# Display the results in a simple table format\n",
    "\n",
    "date_string = []\n",
    "prices = []\n",
    "\n"
   ]
  },
  {
   "cell_type": "code",
   "execution_count": null,
   "id": "fa2c7abc-3194-4ace-bd2a-6678615897b5",
   "metadata": {},
   "outputs": [],
   "source": []
  }
 ],
 "metadata": {
  "kernelspec": {
   "display_name": "Python 3 (ipykernel)",
   "language": "python",
   "name": "python3"
  },
  "language_info": {
   "codemirror_mode": {
    "name": "ipython",
    "version": 3
   },
   "file_extension": ".py",
   "mimetype": "text/x-python",
   "name": "python",
   "nbconvert_exporter": "python",
   "pygments_lexer": "ipython3",
   "version": "3.12.1"
  }
 },
 "nbformat": 4,
 "nbformat_minor": 5
}
